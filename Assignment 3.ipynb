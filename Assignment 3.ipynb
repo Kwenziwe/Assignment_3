{
 "cells": [
  {
   "cell_type": "code",
   "execution_count": null,
   "id": "8b09132d",
   "metadata": {},
   "outputs": [],
   "source": [
    "#Student No: 220132564\n",
    "#Full Name: Kwenziwe Bheksiwayo"
   ]
  },
  {
   "cell_type": "markdown",
   "id": "242e314e",
   "metadata": {},
   "source": [
    "# Statistics for Male Premier League Players"
   ]
  },
  {
   "cell_type": "code",
   "execution_count": 69,
   "id": "ab3bd76b",
   "metadata": {},
   "outputs": [
    {
     "data": {
      "text/markdown": [
       "![Alt text](./premier-league-logo.png)"
      ],
      "text/plain": [
       "<IPython.core.display.Markdown object>"
      ]
     },
     "metadata": {},
     "output_type": "display_data"
    }
   ],
   "source": [
    "#Loading the Premier league logo\n",
    "\n",
    "from IPython.display import Markdown, display\n",
    "display(Markdown('![Alt text](./premier-league-logo.png)'))"
   ]
  },
  {
   "cell_type": "markdown",
   "id": "53f76934",
   "metadata": {},
   "source": [
    "### Import Libraries"
   ]
  },
  {
   "cell_type": "code",
   "execution_count": 6,
   "id": "77533acd",
   "metadata": {},
   "outputs": [],
   "source": [
    "import matplotlib.pyplot as plt\n",
    "import numpy as np\n",
    "import pandas as pd\n",
    "import math"
   ]
  },
  {
   "cell_type": "markdown",
   "id": "ace85824",
   "metadata": {},
   "source": [
    "## Cleaning and Loading Dataset"
   ]
  },
  {
   "cell_type": "code",
   "execution_count": 64,
   "id": "1fcc75d2",
   "metadata": {},
   "outputs": [
    {
     "name": "stdout",
     "output_type": "stream",
     "text": [
      "Rank      0\n",
      "PLAYER    0\n",
      "TEAM      0\n",
      "GP        0\n",
      "GS        0\n",
      "MIN       0\n",
      "G         0\n",
      "ASST      0\n",
      "SHOTS     0\n",
      "SOG       0\n",
      "dtype: int64\n"
     ]
    }
   ],
   "source": [
    "players = pd.read_csv('playerStats.csv');\n",
    "# Handle missing values\n",
    "print(players.isnull().sum()) # Check for missing values in each column\n",
    "players = players.fillna(0) # Replace missing values with "
   ]
  },
  {
   "cell_type": "code",
   "execution_count": 65,
   "id": "3da8ad34",
   "metadata": {},
   "outputs": [
    {
     "data": {
      "text/html": [
       "<div>\n",
       "<style scoped>\n",
       "    .dataframe tbody tr th:only-of-type {\n",
       "        vertical-align: middle;\n",
       "    }\n",
       "\n",
       "    .dataframe tbody tr th {\n",
       "        vertical-align: top;\n",
       "    }\n",
       "\n",
       "    .dataframe thead th {\n",
       "        text-align: right;\n",
       "    }\n",
       "</style>\n",
       "<table border=\"1\" class=\"dataframe\">\n",
       "  <thead>\n",
       "    <tr style=\"text-align: right;\">\n",
       "      <th></th>\n",
       "      <th>Rank</th>\n",
       "      <th>PLAYER</th>\n",
       "      <th>TEAM</th>\n",
       "      <th>GP</th>\n",
       "      <th>GS</th>\n",
       "      <th>MIN</th>\n",
       "      <th>G</th>\n",
       "      <th>ASST</th>\n",
       "      <th>SHOTS</th>\n",
       "      <th>SOG</th>\n",
       "    </tr>\n",
       "  </thead>\n",
       "  <tbody>\n",
       "    <tr>\n",
       "      <th>0</th>\n",
       "      <td>1</td>\n",
       "      <td>Jamie Vardy</td>\n",
       "      <td>Leicester City</td>\n",
       "      <td>35</td>\n",
       "      <td>34</td>\n",
       "      <td>3034</td>\n",
       "      <td>23</td>\n",
       "      <td>5</td>\n",
       "      <td>71</td>\n",
       "      <td>43</td>\n",
       "    </tr>\n",
       "    <tr>\n",
       "      <th>1</th>\n",
       "      <td>2</td>\n",
       "      <td>Danny Ings</td>\n",
       "      <td>Southampton</td>\n",
       "      <td>38</td>\n",
       "      <td>32</td>\n",
       "      <td>2812</td>\n",
       "      <td>22</td>\n",
       "      <td>2</td>\n",
       "      <td>66</td>\n",
       "      <td>38</td>\n",
       "    </tr>\n",
       "    <tr>\n",
       "      <th>2</th>\n",
       "      <td>3</td>\n",
       "      <td>Pierre-Emerick Aubameyang</td>\n",
       "      <td>Arsenal</td>\n",
       "      <td>36</td>\n",
       "      <td>35</td>\n",
       "      <td>3138</td>\n",
       "      <td>22</td>\n",
       "      <td>3</td>\n",
       "      <td>70</td>\n",
       "      <td>42</td>\n",
       "    </tr>\n",
       "    <tr>\n",
       "      <th>3</th>\n",
       "      <td>4</td>\n",
       "      <td>Raheem Shaquille Sterling</td>\n",
       "      <td>Manchester City</td>\n",
       "      <td>33</td>\n",
       "      <td>30</td>\n",
       "      <td>2660</td>\n",
       "      <td>20</td>\n",
       "      <td>1</td>\n",
       "      <td>68</td>\n",
       "      <td>38</td>\n",
       "    </tr>\n",
       "    <tr>\n",
       "      <th>4</th>\n",
       "      <td>5</td>\n",
       "      <td>Mohamed Salah Ghaly</td>\n",
       "      <td>Liverpool</td>\n",
       "      <td>34</td>\n",
       "      <td>33</td>\n",
       "      <td>2884</td>\n",
       "      <td>19</td>\n",
       "      <td>10</td>\n",
       "      <td>95</td>\n",
       "      <td>59</td>\n",
       "    </tr>\n",
       "    <tr>\n",
       "      <th>...</th>\n",
       "      <td>...</td>\n",
       "      <td>...</td>\n",
       "      <td>...</td>\n",
       "      <td>...</td>\n",
       "      <td>...</td>\n",
       "      <td>...</td>\n",
       "      <td>...</td>\n",
       "      <td>...</td>\n",
       "      <td>...</td>\n",
       "      <td>...</td>\n",
       "    </tr>\n",
       "    <tr>\n",
       "      <th>535</th>\n",
       "      <td>536</td>\n",
       "      <td>Dennis Cirkin</td>\n",
       "      <td>Tottenham Hotspur</td>\n",
       "      <td>0</td>\n",
       "      <td>0</td>\n",
       "      <td>0</td>\n",
       "      <td>0</td>\n",
       "      <td>0</td>\n",
       "      <td>0</td>\n",
       "      <td>0</td>\n",
       "    </tr>\n",
       "    <tr>\n",
       "      <th>536</th>\n",
       "      <td>537</td>\n",
       "      <td>Darnell Johnson</td>\n",
       "      <td>Leicester City</td>\n",
       "      <td>0</td>\n",
       "      <td>0</td>\n",
       "      <td>0</td>\n",
       "      <td>0</td>\n",
       "      <td>0</td>\n",
       "      <td>0</td>\n",
       "      <td>0</td>\n",
       "    </tr>\n",
       "    <tr>\n",
       "      <th>537</th>\n",
       "      <td>538</td>\n",
       "      <td>Timothy Fosu-Mensah</td>\n",
       "      <td>Manchester United</td>\n",
       "      <td>3</td>\n",
       "      <td>2</td>\n",
       "      <td>136</td>\n",
       "      <td>0</td>\n",
       "      <td>0</td>\n",
       "      <td>1</td>\n",
       "      <td>0</td>\n",
       "    </tr>\n",
       "    <tr>\n",
       "      <th>538</th>\n",
       "      <td>539</td>\n",
       "      <td>Conor Coventry</td>\n",
       "      <td>West Ham United</td>\n",
       "      <td>0</td>\n",
       "      <td>0</td>\n",
       "      <td>0</td>\n",
       "      <td>0</td>\n",
       "      <td>0</td>\n",
       "      <td>0</td>\n",
       "      <td>0</td>\n",
       "    </tr>\n",
       "    <tr>\n",
       "      <th>539</th>\n",
       "      <td>540</td>\n",
       "      <td>Alex Cochrane</td>\n",
       "      <td>Brighton and Hove Albion</td>\n",
       "      <td>0</td>\n",
       "      <td>0</td>\n",
       "      <td>0</td>\n",
       "      <td>0</td>\n",
       "      <td>0</td>\n",
       "      <td>0</td>\n",
       "      <td>0</td>\n",
       "    </tr>\n",
       "  </tbody>\n",
       "</table>\n",
       "<p>540 rows × 10 columns</p>\n",
       "</div>"
      ],
      "text/plain": [
       "     Rank                     PLAYER                      TEAM  GP  GS   MIN   \n",
       "0       1                Jamie Vardy            Leicester City  35  34  3034  \\\n",
       "1       2                 Danny Ings               Southampton  38  32  2812   \n",
       "2       3  Pierre-Emerick Aubameyang                   Arsenal  36  35  3138   \n",
       "3       4  Raheem Shaquille Sterling           Manchester City  33  30  2660   \n",
       "4       5        Mohamed Salah Ghaly                 Liverpool  34  33  2884   \n",
       "..    ...                        ...                       ...  ..  ..   ...   \n",
       "535   536              Dennis Cirkin         Tottenham Hotspur   0   0     0   \n",
       "536   537            Darnell Johnson            Leicester City   0   0     0   \n",
       "537   538        Timothy Fosu-Mensah         Manchester United   3   2   136   \n",
       "538   539             Conor Coventry           West Ham United   0   0     0   \n",
       "539   540              Alex Cochrane  Brighton and Hove Albion   0   0     0   \n",
       "\n",
       "      G  ASST  SHOTS  SOG  \n",
       "0    23     5     71   43  \n",
       "1    22     2     66   38  \n",
       "2    22     3     70   42  \n",
       "3    20     1     68   38  \n",
       "4    19    10     95   59  \n",
       "..   ..   ...    ...  ...  \n",
       "535   0     0      0    0  \n",
       "536   0     0      0    0  \n",
       "537   0     0      1    0  \n",
       "538   0     0      0    0  \n",
       "539   0     0      0    0  \n",
       "\n",
       "[540 rows x 10 columns]"
      ]
     },
     "execution_count": 65,
     "metadata": {},
     "output_type": "execute_result"
    }
   ],
   "source": [
    "players"
   ]
  },
  {
   "cell_type": "code",
   "execution_count": 73,
   "id": "e348c2a4",
   "metadata": {},
   "outputs": [
    {
     "data": {
      "text/markdown": [
       "![Alt text](./goal.jfif)"
      ],
      "text/plain": [
       "<IPython.core.display.Markdown object>"
      ]
     },
     "metadata": {},
     "output_type": "display_data"
    }
   ],
   "source": [
    "#Loading the goals\n",
    "\n",
    "from IPython.display import Markdown, display\n",
    "display(Markdown('![Alt text](./goal.jfif)'))"
   ]
  },
  {
   "cell_type": "markdown",
   "id": "553adfe8",
   "metadata": {},
   "source": [
    "## Average No of Goals Scored In A Season for a Single Player\n",
    "### Formula\n",
    "#### Mean = (Sum of all Values in the set) / (Number of values in the set)"
   ]
  },
  {
   "cell_type": "code",
   "execution_count": 70,
   "id": "c75adfa1",
   "metadata": {
    "scrolled": true
   },
   "outputs": [
    {
     "data": {
      "text/plain": [
       "2.0"
      ]
     },
     "execution_count": 70,
     "metadata": {},
     "output_type": "execute_result"
    }
   ],
   "source": [
    "mean = round(players['G'].mean(),0)\n",
    "mean"
   ]
  },
  {
   "cell_type": "markdown",
   "id": "feab40b8",
   "metadata": {},
   "source": [
    "## Median Goals Scored In A Season"
   ]
  },
  {
   "cell_type": "code",
   "execution_count": 71,
   "id": "8d241016",
   "metadata": {},
   "outputs": [
    {
     "data": {
      "text/plain": [
       "0.0"
      ]
     },
     "execution_count": 71,
     "metadata": {},
     "output_type": "execute_result"
    }
   ],
   "source": [
    "players= players.sort_values('G', ascending=True)\n",
    "median = players['G'].median()\n",
    "median"
   ]
  },
  {
   "cell_type": "markdown",
   "id": "bdaf83b1",
   "metadata": {},
   "source": [
    "## Mode of Goals In A Season"
   ]
  },
  {
   "cell_type": "code",
   "execution_count": 72,
   "id": "9a584966",
   "metadata": {},
   "outputs": [
    {
     "data": {
      "text/plain": [
       "0    0\n",
       "Name: G, dtype: int64"
      ]
     },
     "execution_count": 72,
     "metadata": {},
     "output_type": "execute_result"
    }
   ],
   "source": [
    "mode = players['G'].mode();\n",
    "mode"
   ]
  },
  {
   "cell_type": "markdown",
   "id": "993fa2e9",
   "metadata": {},
   "source": [
    "## Highest goals Scorer In This Season by Jamie Vardy"
   ]
  },
  {
   "cell_type": "code",
   "execution_count": 75,
   "id": "bf6f4711",
   "metadata": {},
   "outputs": [
    {
     "data": {
      "text/markdown": [
       "![Alt text](./jamie_vardy.jfif)"
      ],
      "text/plain": [
       "<IPython.core.display.Markdown object>"
      ]
     },
     "metadata": {},
     "output_type": "display_data"
    }
   ],
   "source": [
    "from IPython.display import Markdown, display\n",
    "display(Markdown('![Alt text](./jamie_vardy.jfif)'))"
   ]
  },
  {
   "cell_type": "code",
   "execution_count": 74,
   "id": "5bc3c5db",
   "metadata": {},
   "outputs": [
    {
     "data": {
      "text/plain": [
       "23"
      ]
     },
     "execution_count": 74,
     "metadata": {},
     "output_type": "execute_result"
    }
   ],
   "source": [
    "maximum = players['G'].max();\n",
    "maximum"
   ]
  },
  {
   "cell_type": "markdown",
   "id": "d09ac480",
   "metadata": {},
   "source": [
    "## Lowest Goals Scored In A Season"
   ]
  },
  {
   "cell_type": "code",
   "execution_count": 76,
   "id": "95972142",
   "metadata": {},
   "outputs": [
    {
     "data": {
      "text/plain": [
       "0"
      ]
     },
     "execution_count": 76,
     "metadata": {},
     "output_type": "execute_result"
    }
   ],
   "source": [
    "minimum = players['G'].min();\n",
    "minimum"
   ]
  },
  {
   "cell_type": "markdown",
   "id": "3cd5b089",
   "metadata": {},
   "source": [
    "## Variance of Goals"
   ]
  },
  {
   "cell_type": "code",
   "execution_count": 79,
   "id": "20ae7626",
   "metadata": {},
   "outputs": [
    {
     "data": {
      "text/plain": [
       "12.618518518518519"
      ]
     },
     "execution_count": 79,
     "metadata": {},
     "output_type": "execute_result"
    }
   ],
   "source": [
    "# Calculate the mean\n",
    "mean = 2\n",
    "\n",
    "# Calculate the variance\n",
    "variance = np.mean([(x - mean) ** 2 for x in players['G']])\n",
    "\n",
    "variance"
   ]
  },
  {
   "cell_type": "markdown",
   "id": "74b9b69d",
   "metadata": {},
   "source": [
    "## Standard Deviation\n",
    "### Formula "
   ]
  },
  {
   "cell_type": "code",
   "execution_count": 81,
   "id": "07212606",
   "metadata": {},
   "outputs": [
    {
     "data": {
      "text/plain": [
       "3.55"
      ]
     },
     "execution_count": 81,
     "metadata": {},
     "output_type": "execute_result"
    }
   ],
   "source": [
    "standard_dev = round(np.std(players['G']),2)\n",
    "standard_dev"
   ]
  },
  {
   "cell_type": "markdown",
   "id": "7fcebdff",
   "metadata": {},
   "source": [
    "\n",
    "\n",
    "## Box and Whisker Diagram for Shots"
   ]
  },
  {
   "cell_type": "markdown",
   "id": "3207a5df",
   "metadata": {},
   "source": [
    "### Minimum"
   ]
  },
  {
   "cell_type": "code",
   "execution_count": 26,
   "id": "0a79bd2e",
   "metadata": {},
   "outputs": [
    {
     "data": {
      "text/plain": [
       "0"
      ]
     },
     "execution_count": 26,
     "metadata": {},
     "output_type": "execute_result"
    }
   ],
   "source": [
    "minimum = players['SHOTS'].min()\n",
    "minimum"
   ]
  },
  {
   "cell_type": "markdown",
   "id": "ac512e27",
   "metadata": {},
   "source": [
    "### Q1"
   ]
  },
  {
   "cell_type": "code",
   "execution_count": 27,
   "id": "c0cad560",
   "metadata": {},
   "outputs": [
    {
     "data": {
      "text/plain": [
       "0.0"
      ]
     },
     "execution_count": 27,
     "metadata": {},
     "output_type": "execute_result"
    }
   ],
   "source": [
    "q1 = players['SHOTS'].quantile(0.25)\n",
    "q1"
   ]
  },
  {
   "cell_type": "markdown",
   "id": "0be2e8be",
   "metadata": {},
   "source": [
    "### Q2"
   ]
  },
  {
   "cell_type": "code",
   "execution_count": 28,
   "id": "b01b70a8",
   "metadata": {},
   "outputs": [
    {
     "data": {
      "text/plain": [
       "6.0"
      ]
     },
     "execution_count": 28,
     "metadata": {},
     "output_type": "execute_result"
    }
   ],
   "source": [
    "q2 = players['SHOTS'].quantile(0.50)\n",
    "q2"
   ]
  },
  {
   "cell_type": "markdown",
   "id": "9e58d45e",
   "metadata": {},
   "source": [
    "### Q3"
   ]
  },
  {
   "cell_type": "code",
   "execution_count": 29,
   "id": "a5c16dae",
   "metadata": {},
   "outputs": [
    {
     "data": {
      "text/plain": [
       "17.0"
      ]
     },
     "execution_count": 29,
     "metadata": {},
     "output_type": "execute_result"
    }
   ],
   "source": [
    "q3 = players['SHOTS'].quantile(0.75)\n",
    "q3"
   ]
  },
  {
   "cell_type": "markdown",
   "id": "dffecfb3",
   "metadata": {},
   "source": [
    "### Maximum"
   ]
  },
  {
   "cell_type": "code",
   "execution_count": 30,
   "id": "e679fc8f",
   "metadata": {},
   "outputs": [
    {
     "data": {
      "text/plain": [
       "95"
      ]
     },
     "execution_count": 30,
     "metadata": {},
     "output_type": "execute_result"
    }
   ],
   "source": [
    "maximum = players['SHOTS'].max();\n",
    "maximum"
   ]
  },
  {
   "cell_type": "markdown",
   "id": "8f1c911d",
   "metadata": {},
   "source": [
    "## Box plot"
   ]
  },
  {
   "cell_type": "code",
   "execution_count": 40,
   "id": "bfd8d154",
   "metadata": {},
   "outputs": [
    {
     "data": {
      "image/png": "[encoded data removed]",
      "text/plain": [
       "<Figure size 640x480 with 1 Axes>"
      ]
     },
     "metadata": {},
     "output_type": "display_data"
    }
   ],
   "source": [
    "plt.boxplot(players['SHOTS'])\n",
    "plt.show()"
   ]
  },
  {
   "cell_type": "markdown",
   "id": "317bbb88",
   "metadata": {},
   "source": [
    "## Box and Whisker Diagram for Shots On Goal"
   ]
  },
  {
   "cell_type": "markdown",
   "id": "7ee1aa0a",
   "metadata": {},
   "source": [
    "### Minimum"
   ]
  },
  {
   "cell_type": "code",
   "execution_count": 31,
   "id": "1358585c",
   "metadata": {},
   "outputs": [
    {
     "data": {
      "text/plain": [
       "0"
      ]
     },
     "execution_count": 31,
     "metadata": {},
     "output_type": "execute_result"
    }
   ],
   "source": [
    "minimum = players['SOG'].min()\n",
    "minimum"
   ]
  },
  {
   "cell_type": "markdown",
   "id": "d0c64a1b",
   "metadata": {},
   "source": [
    "### Q1"
   ]
  },
  {
   "cell_type": "code",
   "execution_count": 32,
   "id": "d0bd15f7",
   "metadata": {},
   "outputs": [
    {
     "data": {
      "text/plain": [
       "0.0"
      ]
     },
     "execution_count": 32,
     "metadata": {},
     "output_type": "execute_result"
    }
   ],
   "source": [
    "q1 = players['SOG'].quantile(0.25)\n",
    "q1"
   ]
  },
  {
   "cell_type": "markdown",
   "id": "7d687e55",
   "metadata": {},
   "source": [
    "### Q2"
   ]
  },
  {
   "cell_type": "code",
   "execution_count": 41,
   "id": "3b8b75ca",
   "metadata": {},
   "outputs": [
    {
     "data": {
      "text/plain": [
       "2.0"
      ]
     },
     "execution_count": 41,
     "metadata": {},
     "output_type": "execute_result"
    }
   ],
   "source": [
    "q2 = players['SOG'].quantile(0.50)\n",
    "q2"
   ]
  },
  {
   "cell_type": "markdown",
   "id": "f2e4d348",
   "metadata": {},
   "source": [
    "### Q3"
   ]
  },
  {
   "cell_type": "code",
   "execution_count": 34,
   "id": "c3a6d513",
   "metadata": {},
   "outputs": [
    {
     "data": {
      "text/plain": [
       "7.0"
      ]
     },
     "execution_count": 34,
     "metadata": {},
     "output_type": "execute_result"
    }
   ],
   "source": [
    "q3 = players['SOG'].quantile(0.75)\n",
    "q3"
   ]
  },
  {
   "cell_type": "markdown",
   "id": "95368727",
   "metadata": {},
   "source": [
    "### Maximum"
   ]
  },
  {
   "cell_type": "code",
   "execution_count": 35,
   "id": "5861970f",
   "metadata": {},
   "outputs": [
    {
     "data": {
      "text/plain": [
       "59"
      ]
     },
     "execution_count": 35,
     "metadata": {},
     "output_type": "execute_result"
    }
   ],
   "source": [
    "maximum = players['SOG'].max()\n",
    "maximum"
   ]
  },
  {
   "cell_type": "markdown",
   "id": "59121a72",
   "metadata": {},
   "source": [
    "## Box plot"
   ]
  },
  {
   "cell_type": "code",
   "execution_count": 49,
   "id": "61d24b0e",
   "metadata": {
    "scrolled": true
   },
   "outputs": [
    {
     "data": {
      "image/png": "[encoded data removed]",
      "text/plain": [
       "<Figure size 640x480 with 1 Axes>"
      ]
     },
     "metadata": {},
     "output_type": "display_data"
    }
   ],
   "source": [
    "plt.boxplot(players['SOG'])\n",
    "plt.show()"
   ]
  },
  {
   "cell_type": "markdown",
   "id": "353e3440",
   "metadata": {},
   "source": [
    "## Box and Whisker Diagram for Goals"
   ]
  },
  {
   "cell_type": "markdown",
   "id": "f814a1e0",
   "metadata": {},
   "source": [
    "### Minimum"
   ]
  },
  {
   "cell_type": "code",
   "execution_count": 37,
   "id": "6d520372",
   "metadata": {},
   "outputs": [
    {
     "data": {
      "text/plain": [
       "0"
      ]
     },
     "execution_count": 37,
     "metadata": {},
     "output_type": "execute_result"
    }
   ],
   "source": [
    "minimum = players['G'].min()\n",
    "minimum"
   ]
  },
  {
   "cell_type": "markdown",
   "id": "2fa2b6ae",
   "metadata": {},
   "source": [
    "### Q1"
   ]
  },
  {
   "cell_type": "code",
   "execution_count": 38,
   "id": "61a9220e",
   "metadata": {},
   "outputs": [
    {
     "data": {
      "text/plain": [
       "0.0"
      ]
     },
     "execution_count": 38,
     "metadata": {},
     "output_type": "execute_result"
    }
   ],
   "source": [
    "q1 = players['G'].quantile(0.25)\n",
    "q1"
   ]
  },
  {
   "cell_type": "markdown",
   "id": "040836d6",
   "metadata": {},
   "source": [
    "### Q2"
   ]
  },
  {
   "cell_type": "code",
   "execution_count": 39,
   "id": "ea17f8eb",
   "metadata": {},
   "outputs": [
    {
     "data": {
      "text/plain": [
       "0.0"
      ]
     },
     "execution_count": 39,
     "metadata": {},
     "output_type": "execute_result"
    }
   ],
   "source": [
    "q2 = players['G'].quantile(0.50)\n",
    "q2"
   ]
  },
  {
   "cell_type": "markdown",
   "id": "b5ebd798",
   "metadata": {},
   "source": [
    "### Q3"
   ]
  },
  {
   "cell_type": "code",
   "execution_count": 42,
   "id": "0cf6ae44",
   "metadata": {},
   "outputs": [
    {
     "data": {
      "text/plain": [
       "2.0"
      ]
     },
     "execution_count": 42,
     "metadata": {},
     "output_type": "execute_result"
    }
   ],
   "source": [
    "q3 = players['G'].quantile(0.75)\n",
    "q3"
   ]
  },
  {
   "cell_type": "markdown",
   "id": "f3b94bf0",
   "metadata": {},
   "source": [
    "### Maximum"
   ]
  },
  {
   "cell_type": "code",
   "execution_count": 43,
   "id": "2ed1e5df",
   "metadata": {},
   "outputs": [
    {
     "data": {
      "text/plain": [
       "23"
      ]
     },
     "execution_count": 43,
     "metadata": {},
     "output_type": "execute_result"
    }
   ],
   "source": [
    "maximum = players['G'].max()\n",
    "maximum"
   ]
  },
  {
   "cell_type": "code",
   "execution_count": 44,
   "id": "55f47cfe",
   "metadata": {
    "scrolled": true
   },
   "outputs": [
    {
     "data": {
      "image/png": "[encoded data removed]",
      "text/plain": [
       "<Figure size 640x480 with 1 Axes>"
      ]
     },
     "metadata": {},
     "output_type": "display_data"
    }
   ],
   "source": [
    "plt.boxplot(players['G'])\n",
    "plt.show()"
   ]
  },
  {
   "cell_type": "markdown",
   "id": "0b0cb63d",
   "metadata": {},
   "source": [
    "## Range For Minutes Played\n",
    "### Formula \n",
    "#### Range = Max - Min"
   ]
  },
  {
   "cell_type": "code",
   "execution_count": 48,
   "id": "62becf26",
   "metadata": {},
   "outputs": [
    {
     "data": {
      "text/plain": [
       "3420"
      ]
     },
     "execution_count": 48,
     "metadata": {},
     "output_type": "execute_result"
    }
   ],
   "source": [
    "maximum = players['MIN'].max()\n",
    "minimum = players['MIN'].min()\n",
    "rangeMins = maximum - minimum\n",
    "rangeMins"
   ]
  },
  {
   "cell_type": "markdown",
   "id": "61ae4d70",
   "metadata": {},
   "source": [
    "## Frequency Distribution Goals per Team in A Season"
   ]
  },
  {
   "cell_type": "code",
   "execution_count": 83,
   "id": "4cc985d5",
   "metadata": {},
   "outputs": [
    {
     "data": {
      "text/html": [
       "<div>\n",
       "<style scoped>\n",
       "    .dataframe tbody tr th:only-of-type {\n",
       "        vertical-align: middle;\n",
       "    }\n",
       "\n",
       "    .dataframe tbody tr th {\n",
       "        vertical-align: top;\n",
       "    }\n",
       "\n",
       "    .dataframe thead th {\n",
       "        text-align: right;\n",
       "    }\n",
       "</style>\n",
       "<table border=\"1\" class=\"dataframe\">\n",
       "  <thead>\n",
       "    <tr style=\"text-align: right;\">\n",
       "      <th>G</th>\n",
       "      <th>0</th>\n",
       "      <th>1</th>\n",
       "      <th>2</th>\n",
       "      <th>3</th>\n",
       "      <th>4</th>\n",
       "      <th>5</th>\n",
       "      <th>6</th>\n",
       "      <th>7</th>\n",
       "      <th>8</th>\n",
       "      <th>9</th>\n",
       "      <th>...</th>\n",
       "      <th>13</th>\n",
       "      <th>14</th>\n",
       "      <th>15</th>\n",
       "      <th>16</th>\n",
       "      <th>17</th>\n",
       "      <th>18</th>\n",
       "      <th>19</th>\n",
       "      <th>20</th>\n",
       "      <th>22</th>\n",
       "      <th>23</th>\n",
       "    </tr>\n",
       "    <tr>\n",
       "      <th>TEAM</th>\n",
       "      <th></th>\n",
       "      <th></th>\n",
       "      <th></th>\n",
       "      <th></th>\n",
       "      <th></th>\n",
       "      <th></th>\n",
       "      <th></th>\n",
       "      <th></th>\n",
       "      <th></th>\n",
       "      <th></th>\n",
       "      <th></th>\n",
       "      <th></th>\n",
       "      <th></th>\n",
       "      <th></th>\n",
       "      <th></th>\n",
       "      <th></th>\n",
       "      <th></th>\n",
       "      <th></th>\n",
       "      <th></th>\n",
       "      <th></th>\n",
       "      <th></th>\n",
       "    </tr>\n",
       "  </thead>\n",
       "  <tbody>\n",
       "    <tr>\n",
       "      <th>Arsenal</th>\n",
       "      <td>13</td>\n",
       "      <td>10</td>\n",
       "      <td>3</td>\n",
       "      <td>1</td>\n",
       "      <td>0</td>\n",
       "      <td>1</td>\n",
       "      <td>0</td>\n",
       "      <td>0</td>\n",
       "      <td>0</td>\n",
       "      <td>0</td>\n",
       "      <td>...</td>\n",
       "      <td>0</td>\n",
       "      <td>0</td>\n",
       "      <td>0</td>\n",
       "      <td>0</td>\n",
       "      <td>0</td>\n",
       "      <td>0</td>\n",
       "      <td>0</td>\n",
       "      <td>0</td>\n",
       "      <td>1</td>\n",
       "      <td>0</td>\n",
       "    </tr>\n",
       "    <tr>\n",
       "      <th>Aston Villa</th>\n",
       "      <td>13</td>\n",
       "      <td>6</td>\n",
       "      <td>1</td>\n",
       "      <td>3</td>\n",
       "      <td>1</td>\n",
       "      <td>1</td>\n",
       "      <td>1</td>\n",
       "      <td>0</td>\n",
       "      <td>1</td>\n",
       "      <td>0</td>\n",
       "      <td>...</td>\n",
       "      <td>0</td>\n",
       "      <td>0</td>\n",
       "      <td>0</td>\n",
       "      <td>0</td>\n",
       "      <td>0</td>\n",
       "      <td>0</td>\n",
       "      <td>0</td>\n",
       "      <td>0</td>\n",
       "      <td>0</td>\n",
       "      <td>0</td>\n",
       "    </tr>\n",
       "    <tr>\n",
       "      <th>Bournemouth</th>\n",
       "      <td>16</td>\n",
       "      <td>5</td>\n",
       "      <td>1</td>\n",
       "      <td>3</td>\n",
       "      <td>0</td>\n",
       "      <td>0</td>\n",
       "      <td>1</td>\n",
       "      <td>1</td>\n",
       "      <td>1</td>\n",
       "      <td>0</td>\n",
       "      <td>...</td>\n",
       "      <td>0</td>\n",
       "      <td>0</td>\n",
       "      <td>0</td>\n",
       "      <td>0</td>\n",
       "      <td>0</td>\n",
       "      <td>0</td>\n",
       "      <td>0</td>\n",
       "      <td>0</td>\n",
       "      <td>0</td>\n",
       "      <td>0</td>\n",
       "    </tr>\n",
       "    <tr>\n",
       "      <th>Brighton and Hove Albion</th>\n",
       "      <td>13</td>\n",
       "      <td>4</td>\n",
       "      <td>2</td>\n",
       "      <td>3</td>\n",
       "      <td>0</td>\n",
       "      <td>1</td>\n",
       "      <td>0</td>\n",
       "      <td>0</td>\n",
       "      <td>0</td>\n",
       "      <td>0</td>\n",
       "      <td>...</td>\n",
       "      <td>0</td>\n",
       "      <td>0</td>\n",
       "      <td>0</td>\n",
       "      <td>0</td>\n",
       "      <td>0</td>\n",
       "      <td>0</td>\n",
       "      <td>0</td>\n",
       "      <td>0</td>\n",
       "      <td>0</td>\n",
       "      <td>0</td>\n",
       "    </tr>\n",
       "    <tr>\n",
       "      <th>Burnley</th>\n",
       "      <td>18</td>\n",
       "      <td>3</td>\n",
       "      <td>4</td>\n",
       "      <td>0</td>\n",
       "      <td>0</td>\n",
       "      <td>0</td>\n",
       "      <td>1</td>\n",
       "      <td>0</td>\n",
       "      <td>1</td>\n",
       "      <td>0</td>\n",
       "      <td>...</td>\n",
       "      <td>0</td>\n",
       "      <td>1</td>\n",
       "      <td>0</td>\n",
       "      <td>0</td>\n",
       "      <td>0</td>\n",
       "      <td>0</td>\n",
       "      <td>0</td>\n",
       "      <td>0</td>\n",
       "      <td>0</td>\n",
       "      <td>0</td>\n",
       "    </tr>\n",
       "    <tr>\n",
       "      <th>Chelsea</th>\n",
       "      <td>11</td>\n",
       "      <td>6</td>\n",
       "      <td>2</td>\n",
       "      <td>1</td>\n",
       "      <td>2</td>\n",
       "      <td>0</td>\n",
       "      <td>0</td>\n",
       "      <td>1</td>\n",
       "      <td>1</td>\n",
       "      <td>2</td>\n",
       "      <td>...</td>\n",
       "      <td>0</td>\n",
       "      <td>0</td>\n",
       "      <td>1</td>\n",
       "      <td>0</td>\n",
       "      <td>0</td>\n",
       "      <td>0</td>\n",
       "      <td>0</td>\n",
       "      <td>0</td>\n",
       "      <td>0</td>\n",
       "      <td>0</td>\n",
       "    </tr>\n",
       "    <tr>\n",
       "      <th>Crystal Palace</th>\n",
       "      <td>18</td>\n",
       "      <td>3</td>\n",
       "      <td>1</td>\n",
       "      <td>3</td>\n",
       "      <td>1</td>\n",
       "      <td>0</td>\n",
       "      <td>0</td>\n",
       "      <td>0</td>\n",
       "      <td>0</td>\n",
       "      <td>1</td>\n",
       "      <td>...</td>\n",
       "      <td>0</td>\n",
       "      <td>0</td>\n",
       "      <td>0</td>\n",
       "      <td>0</td>\n",
       "      <td>0</td>\n",
       "      <td>0</td>\n",
       "      <td>0</td>\n",
       "      <td>0</td>\n",
       "      <td>0</td>\n",
       "      <td>0</td>\n",
       "    </tr>\n",
       "    <tr>\n",
       "      <th>Everton</th>\n",
       "      <td>14</td>\n",
       "      <td>2</td>\n",
       "      <td>6</td>\n",
       "      <td>1</td>\n",
       "      <td>0</td>\n",
       "      <td>0</td>\n",
       "      <td>0</td>\n",
       "      <td>0</td>\n",
       "      <td>0</td>\n",
       "      <td>0</td>\n",
       "      <td>...</td>\n",
       "      <td>2</td>\n",
       "      <td>0</td>\n",
       "      <td>0</td>\n",
       "      <td>0</td>\n",
       "      <td>0</td>\n",
       "      <td>0</td>\n",
       "      <td>0</td>\n",
       "      <td>0</td>\n",
       "      <td>0</td>\n",
       "      <td>0</td>\n",
       "    </tr>\n",
       "    <tr>\n",
       "      <th>Leicester City</th>\n",
       "      <td>10</td>\n",
       "      <td>4</td>\n",
       "      <td>2</td>\n",
       "      <td>3</td>\n",
       "      <td>0</td>\n",
       "      <td>1</td>\n",
       "      <td>2</td>\n",
       "      <td>0</td>\n",
       "      <td>1</td>\n",
       "      <td>0</td>\n",
       "      <td>...</td>\n",
       "      <td>0</td>\n",
       "      <td>0</td>\n",
       "      <td>0</td>\n",
       "      <td>0</td>\n",
       "      <td>0</td>\n",
       "      <td>0</td>\n",
       "      <td>0</td>\n",
       "      <td>0</td>\n",
       "      <td>0</td>\n",
       "      <td>1</td>\n",
       "    </tr>\n",
       "    <tr>\n",
       "      <th>Liverpool</th>\n",
       "      <td>11</td>\n",
       "      <td>4</td>\n",
       "      <td>4</td>\n",
       "      <td>0</td>\n",
       "      <td>5</td>\n",
       "      <td>1</td>\n",
       "      <td>0</td>\n",
       "      <td>0</td>\n",
       "      <td>0</td>\n",
       "      <td>1</td>\n",
       "      <td>...</td>\n",
       "      <td>0</td>\n",
       "      <td>0</td>\n",
       "      <td>0</td>\n",
       "      <td>0</td>\n",
       "      <td>0</td>\n",
       "      <td>1</td>\n",
       "      <td>1</td>\n",
       "      <td>0</td>\n",
       "      <td>0</td>\n",
       "      <td>0</td>\n",
       "    </tr>\n",
       "    <tr>\n",
       "      <th>Manchester City</th>\n",
       "      <td>12</td>\n",
       "      <td>2</td>\n",
       "      <td>2</td>\n",
       "      <td>1</td>\n",
       "      <td>0</td>\n",
       "      <td>1</td>\n",
       "      <td>2</td>\n",
       "      <td>0</td>\n",
       "      <td>0</td>\n",
       "      <td>0</td>\n",
       "      <td>...</td>\n",
       "      <td>1</td>\n",
       "      <td>1</td>\n",
       "      <td>0</td>\n",
       "      <td>1</td>\n",
       "      <td>0</td>\n",
       "      <td>0</td>\n",
       "      <td>0</td>\n",
       "      <td>1</td>\n",
       "      <td>0</td>\n",
       "      <td>0</td>\n",
       "    </tr>\n",
       "    <tr>\n",
       "      <th>Manchester United</th>\n",
       "      <td>17</td>\n",
       "      <td>6</td>\n",
       "      <td>0</td>\n",
       "      <td>1</td>\n",
       "      <td>1</td>\n",
       "      <td>0</td>\n",
       "      <td>0</td>\n",
       "      <td>0</td>\n",
       "      <td>1</td>\n",
       "      <td>0</td>\n",
       "      <td>...</td>\n",
       "      <td>0</td>\n",
       "      <td>0</td>\n",
       "      <td>0</td>\n",
       "      <td>0</td>\n",
       "      <td>2</td>\n",
       "      <td>0</td>\n",
       "      <td>0</td>\n",
       "      <td>0</td>\n",
       "      <td>0</td>\n",
       "      <td>0</td>\n",
       "    </tr>\n",
       "    <tr>\n",
       "      <th>Newcastle United</th>\n",
       "      <td>12</td>\n",
       "      <td>5</td>\n",
       "      <td>7</td>\n",
       "      <td>1</td>\n",
       "      <td>2</td>\n",
       "      <td>0</td>\n",
       "      <td>1</td>\n",
       "      <td>0</td>\n",
       "      <td>0</td>\n",
       "      <td>0</td>\n",
       "      <td>...</td>\n",
       "      <td>0</td>\n",
       "      <td>0</td>\n",
       "      <td>0</td>\n",
       "      <td>0</td>\n",
       "      <td>0</td>\n",
       "      <td>0</td>\n",
       "      <td>0</td>\n",
       "      <td>0</td>\n",
       "      <td>0</td>\n",
       "      <td>0</td>\n",
       "    </tr>\n",
       "    <tr>\n",
       "      <th>Norwich City</th>\n",
       "      <td>19</td>\n",
       "      <td>7</td>\n",
       "      <td>0</td>\n",
       "      <td>0</td>\n",
       "      <td>0</td>\n",
       "      <td>0</td>\n",
       "      <td>1</td>\n",
       "      <td>0</td>\n",
       "      <td>0</td>\n",
       "      <td>0</td>\n",
       "      <td>...</td>\n",
       "      <td>0</td>\n",
       "      <td>0</td>\n",
       "      <td>0</td>\n",
       "      <td>0</td>\n",
       "      <td>0</td>\n",
       "      <td>0</td>\n",
       "      <td>0</td>\n",
       "      <td>0</td>\n",
       "      <td>0</td>\n",
       "      <td>0</td>\n",
       "    </tr>\n",
       "    <tr>\n",
       "      <th>Sheffield United</th>\n",
       "      <td>14</td>\n",
       "      <td>2</td>\n",
       "      <td>4</td>\n",
       "      <td>1</td>\n",
       "      <td>0</td>\n",
       "      <td>2</td>\n",
       "      <td>2</td>\n",
       "      <td>0</td>\n",
       "      <td>0</td>\n",
       "      <td>0</td>\n",
       "      <td>...</td>\n",
       "      <td>0</td>\n",
       "      <td>0</td>\n",
       "      <td>0</td>\n",
       "      <td>0</td>\n",
       "      <td>0</td>\n",
       "      <td>0</td>\n",
       "      <td>0</td>\n",
       "      <td>0</td>\n",
       "      <td>0</td>\n",
       "      <td>0</td>\n",
       "    </tr>\n",
       "    <tr>\n",
       "      <th>Southampton</th>\n",
       "      <td>15</td>\n",
       "      <td>4</td>\n",
       "      <td>2</td>\n",
       "      <td>1</td>\n",
       "      <td>2</td>\n",
       "      <td>2</td>\n",
       "      <td>0</td>\n",
       "      <td>0</td>\n",
       "      <td>0</td>\n",
       "      <td>0</td>\n",
       "      <td>...</td>\n",
       "      <td>0</td>\n",
       "      <td>0</td>\n",
       "      <td>0</td>\n",
       "      <td>0</td>\n",
       "      <td>0</td>\n",
       "      <td>0</td>\n",
       "      <td>0</td>\n",
       "      <td>0</td>\n",
       "      <td>1</td>\n",
       "      <td>0</td>\n",
       "    </tr>\n",
       "    <tr>\n",
       "      <th>Tottenham Hotspur</th>\n",
       "      <td>17</td>\n",
       "      <td>2</td>\n",
       "      <td>4</td>\n",
       "      <td>1</td>\n",
       "      <td>1</td>\n",
       "      <td>0</td>\n",
       "      <td>0</td>\n",
       "      <td>0</td>\n",
       "      <td>1</td>\n",
       "      <td>0</td>\n",
       "      <td>...</td>\n",
       "      <td>0</td>\n",
       "      <td>0</td>\n",
       "      <td>0</td>\n",
       "      <td>0</td>\n",
       "      <td>0</td>\n",
       "      <td>1</td>\n",
       "      <td>0</td>\n",
       "      <td>0</td>\n",
       "      <td>0</td>\n",
       "      <td>0</td>\n",
       "    </tr>\n",
       "    <tr>\n",
       "      <th>Watford</th>\n",
       "      <td>17</td>\n",
       "      <td>3</td>\n",
       "      <td>3</td>\n",
       "      <td>1</td>\n",
       "      <td>2</td>\n",
       "      <td>1</td>\n",
       "      <td>0</td>\n",
       "      <td>0</td>\n",
       "      <td>0</td>\n",
       "      <td>0</td>\n",
       "      <td>...</td>\n",
       "      <td>0</td>\n",
       "      <td>0</td>\n",
       "      <td>0</td>\n",
       "      <td>0</td>\n",
       "      <td>0</td>\n",
       "      <td>0</td>\n",
       "      <td>0</td>\n",
       "      <td>0</td>\n",
       "      <td>0</td>\n",
       "      <td>0</td>\n",
       "    </tr>\n",
       "    <tr>\n",
       "      <th>West Ham United</th>\n",
       "      <td>16</td>\n",
       "      <td>4</td>\n",
       "      <td>2</td>\n",
       "      <td>3</td>\n",
       "      <td>1</td>\n",
       "      <td>2</td>\n",
       "      <td>0</td>\n",
       "      <td>1</td>\n",
       "      <td>0</td>\n",
       "      <td>0</td>\n",
       "      <td>...</td>\n",
       "      <td>0</td>\n",
       "      <td>0</td>\n",
       "      <td>0</td>\n",
       "      <td>0</td>\n",
       "      <td>0</td>\n",
       "      <td>0</td>\n",
       "      <td>0</td>\n",
       "      <td>0</td>\n",
       "      <td>0</td>\n",
       "      <td>0</td>\n",
       "    </tr>\n",
       "    <tr>\n",
       "      <th>Wolverhampton Wanderers</th>\n",
       "      <td>13</td>\n",
       "      <td>2</td>\n",
       "      <td>3</td>\n",
       "      <td>1</td>\n",
       "      <td>3</td>\n",
       "      <td>0</td>\n",
       "      <td>0</td>\n",
       "      <td>1</td>\n",
       "      <td>0</td>\n",
       "      <td>0</td>\n",
       "      <td>...</td>\n",
       "      <td>0</td>\n",
       "      <td>0</td>\n",
       "      <td>0</td>\n",
       "      <td>0</td>\n",
       "      <td>1</td>\n",
       "      <td>0</td>\n",
       "      <td>0</td>\n",
       "      <td>0</td>\n",
       "      <td>0</td>\n",
       "      <td>0</td>\n",
       "    </tr>\n",
       "  </tbody>\n",
       "</table>\n",
       "<p>20 rows × 22 columns</p>\n",
       "</div>"
      ],
      "text/plain": [
       "G                         0   1   2   3   4   5   6   7   8   9   ...  13  14   \n",
       "TEAM                                                              ...           \n",
       "Arsenal                   13  10   3   1   0   1   0   0   0   0  ...   0   0  \\\n",
       "Aston Villa               13   6   1   3   1   1   1   0   1   0  ...   0   0   \n",
       "Bournemouth               16   5   1   3   0   0   1   1   1   0  ...   0   0   \n",
       "Brighton and Hove Albion  13   4   2   3   0   1   0   0   0   0  ...   0   0   \n",
       "Burnley                   18   3   4   0   0   0   1   0   1   0  ...   0   1   \n",
       "Chelsea                   11   6   2   1   2   0   0   1   1   2  ...   0   0   \n",
       "Crystal Palace            18   3   1   3   1   0   0   0   0   1  ...   0   0   \n",
       "Everton                   14   2   6   1   0   0   0   0   0   0  ...   2   0   \n",
       "Leicester City            10   4   2   3   0   1   2   0   1   0  ...   0   0   \n",
       "Liverpool                 11   4   4   0   5   1   0   0   0   1  ...   0   0   \n",
       "Manchester City           12   2   2   1   0   1   2   0   0   0  ...   1   1   \n",
       "Manchester United         17   6   0   1   1   0   0   0   1   0  ...   0   0   \n",
       "Newcastle United          12   5   7   1   2   0   1   0   0   0  ...   0   0   \n",
       "Norwich City              19   7   0   0   0   0   1   0   0   0  ...   0   0   \n",
       "Sheffield United          14   2   4   1   0   2   2   0   0   0  ...   0   0   \n",
       "Southampton               15   4   2   1   2   2   0   0   0   0  ...   0   0   \n",
       "Tottenham Hotspur         17   2   4   1   1   0   0   0   1   0  ...   0   0   \n",
       "Watford                   17   3   3   1   2   1   0   0   0   0  ...   0   0   \n",
       "West Ham United           16   4   2   3   1   2   0   1   0   0  ...   0   0   \n",
       "Wolverhampton Wanderers   13   2   3   1   3   0   0   1   0   0  ...   0   0   \n",
       "\n",
       "G                         15  16  17  18  19  20  22  23  \n",
       "TEAM                                                      \n",
       "Arsenal                    0   0   0   0   0   0   1   0  \n",
       "Aston Villa                0   0   0   0   0   0   0   0  \n",
       "Bournemouth                0   0   0   0   0   0   0   0  \n",
       "Brighton and Hove Albion   0   0   0   0   0   0   0   0  \n",
       "Burnley                    0   0   0   0   0   0   0   0  \n",
       "Chelsea                    1   0   0   0   0   0   0   0  \n",
       "Crystal Palace             0   0   0   0   0   0   0   0  \n",
       "Everton                    0   0   0   0   0   0   0   0  \n",
       "Leicester City             0   0   0   0   0   0   0   1  \n",
       "Liverpool                  0   0   0   1   1   0   0   0  \n",
       "Manchester City            0   1   0   0   0   1   0   0  \n",
       "Manchester United          0   0   2   0   0   0   0   0  \n",
       "Newcastle United           0   0   0   0   0   0   0   0  \n",
       "Norwich City               0   0   0   0   0   0   0   0  \n",
       "Sheffield United           0   0   0   0   0   0   0   0  \n",
       "Southampton                0   0   0   0   0   0   1   0  \n",
       "Tottenham Hotspur          0   0   0   1   0   0   0   0  \n",
       "Watford                    0   0   0   0   0   0   0   0  \n",
       "West Ham United            0   0   0   0   0   0   0   0  \n",
       "Wolverhampton Wanderers    0   0   1   0   0   0   0   0  \n",
       "\n",
       "[20 rows x 22 columns]"
      ]
     },
     "execution_count": 83,
     "metadata": {},
     "output_type": "execute_result"
    }
   ],
   "source": [
    "freq_table = pd.crosstab(players['TEAM'], players['G'])\n",
    "freq_table"
   ]
  },
  {
   "cell_type": "code",
   "execution_count": 95,
   "id": "9a5c01e3",
   "metadata": {},
   "outputs": [
    {
     "data": {
      "image/png": "[encoded data removed]",
      "text/plain": [
       "<Figure size 640x480 with 1 Axes>"
      ]
     },
     "metadata": {},
     "output_type": "display_data"
    }
   ],
   "source": [
    "plt.hist(players['G'], 540,\n",
    "         density=True,\n",
    "         histtype='bar',\n",
    "         facecolor='b')\n",
    "plt.xlabel(\"Goals\")\n",
    "plt.ylabel(\"No of players\")\n",
    "plt.show()"
   ]
  },
  {
   "cell_type": "markdown",
   "id": "0b42831c",
   "metadata": {},
   "source": [
    "# Conclusion\n",
    "\n",
    "### From the data I can conclude that many male premier league players do not score a goal in that season as the average goal  return for a player in a season is 2. The reason for this could be that the players pla in different position thus lowering their chances of scoring.\n",
    "\n",
    "### From the data skewness of the graph I can conclude that the data is positively skewed as the players scoring more goals decreases. This futher proves the fact that foward players score more goals. The highest goal scorer for the season is a forward.\n",
    "\n",
    "### The lowest scoring players are a mix of players in different positions\n"
   ]
  },
  {
   "cell_type": "code",
   "execution_count": null,
   "id": "1283d116",
   "metadata": {},
   "outputs": [],
   "source": []
  }
 ],
 "metadata": {
  "kernelspec": {
   "display_name": "Python 3 (ipykernel)",
   "language": "python",
   "name": "python3"
  },
  "language_info": {
   "codemirror_mode": {
    "name": "ipython",
    "version": 3
   },
   "file_extension": ".py",
   "mimetype": "text/x-python",
   "name": "python",
   "nbconvert_exporter": "python",
   "pygments_lexer": "ipython3",
   "version": "3.11.3"
  }
 },
 "nbformat": 4,
 "nbformat_minor": 5
}
